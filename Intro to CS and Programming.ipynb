{
 "cells": [
  {
   "cell_type": "code",
   "execution_count": null,
   "id": "d4aa3097",
   "metadata": {},
   "outputs": [],
   "source": [
    "# Ejercicio 1\n",
    "balance = 42\n",
    "annualInterestRate = 0.2\n",
    "monthlyPaymentRate = 0.04\n",
    "\n",
    "for i in range(12):\n",
    "    pay = monthlyPaymentRate * balance\n",
    "    balance -= pay\n",
    "    balance += (annualInterestRate/12) * balance\n",
    "print('Remaining balance: {}'.format(round(balance, 2)))"
   ]
  },
  {
   "cell_type": "code",
   "execution_count": null,
   "id": "31101c05",
   "metadata": {},
   "outputs": [],
   "source": [
    "# Ejercicio 2\n",
    "balance = 3329\n",
    "annualInterestRate = 0.2\n",
    "bal = balance\n",
    "pay = 0\n",
    "while bal > 0:\n",
    "    bal = balance\n",
    "    pay += 10\n",
    "    for i in range(12):\n",
    "        bal -= pay \n",
    "        bal += (annualInterestRate/12) * bal\n",
    "print('Lowest payment: {}'.format(pay))"
   ]
  },
  {
   "cell_type": "code",
   "execution_count": null,
   "id": "769a8e8d",
   "metadata": {},
   "outputs": [],
   "source": [
    "# Ejercicio 3\n",
    "balance = 999999\n",
    "annualInterestRate = 0.18\n",
    "monthlyInt = annualInterestRate / 12\n",
    "low = balance / 12\n",
    "high = balance * ((1 + monthlyInt) ** 12 / 12)\n",
    "bal = balance\n",
    "while round(bal, 2) != 0.00:\n",
    "    pay = (high + low) / 2\n",
    "    bal = balance\n",
    "    for i in range(12):\n",
    "        bal -= pay\n",
    "        bal += monthlyInt * bal\n",
    "    if bal > 0:\n",
    "        low = pay\n",
    "    else:\n",
    "        high = pay\n",
    "print('Lowest Payment: {}'.format(round(pay, 2)))"
   ]
  },
  {
   "cell_type": "code",
   "execution_count": null,
   "id": "94be20c4",
   "metadata": {},
   "outputs": [],
   "source": [
    "def polysum(n, s):\n",
    "    '''Calculate the sum of the area and the sqared perimeter of a given regular polygon.\n",
    "    \n",
    "    Args:\n",
    "        n (int): Number of sides of the polygon.\n",
    "        s (int or float): Length of each side.\n",
    "        \n",
    "    Returns:\n",
    "        float: sum of the area and the squared perimeter of the polygon rounded to 4 decimals.\n",
    "    '''\n",
    "    from math import pi, tan # Imports the necesary functions from the math library\n",
    "    perimeter = n * s\n",
    "    area = (0.25 * n * s ** 2) / tan(pi/n)\n",
    "    res = round((perimeter ** 2 + area), 4)\n",
    "    \n",
    "    return res"
   ]
  },
  {
   "cell_type": "code",
   "execution_count": null,
   "id": "bc613249",
   "metadata": {},
   "outputs": [],
   "source": [
    "polysum(5,4)"
   ]
  },
  {
   "cell_type": "code",
   "execution_count": null,
   "id": "01961714",
   "metadata": {},
   "outputs": [],
   "source": [
    "listA = [1, 4, 3, 0]\n",
    "listB = ['x', 'z', 't', 'q']    "
   ]
  },
  {
   "cell_type": "code",
   "execution_count": null,
   "id": "e9461adc",
   "metadata": {},
   "outputs": [],
   "source": [
    "listA.sort()"
   ]
  },
  {
   "cell_type": "code",
   "execution_count": null,
   "id": "78d365f1",
   "metadata": {},
   "outputs": [],
   "source": [
    "listA"
   ]
  },
  {
   "cell_type": "code",
   "execution_count": null,
   "id": "2fdf6f47",
   "metadata": {},
   "outputs": [],
   "source": [
    "listA.insert(0, 100)"
   ]
  },
  {
   "cell_type": "code",
   "execution_count": null,
   "id": "035311c0",
   "metadata": {},
   "outputs": [],
   "source": [
    "listA"
   ]
  },
  {
   "cell_type": "code",
   "execution_count": null,
   "id": "37560dbb",
   "metadata": {},
   "outputs": [],
   "source": [
    "listA.remove(3)"
   ]
  },
  {
   "cell_type": "code",
   "execution_count": null,
   "id": "8c92eebf",
   "metadata": {},
   "outputs": [],
   "source": [
    "listA.append(7)"
   ]
  },
  {
   "cell_type": "code",
   "execution_count": null,
   "id": "f553153e",
   "metadata": {
    "scrolled": true
   },
   "outputs": [],
   "source": [
    "listB.remove('a')"
   ]
  },
  {
   "cell_type": "code",
   "execution_count": null,
   "id": "e4ba6f63",
   "metadata": {},
   "outputs": [],
   "source": [
    "listA.extend([4, 1, 6, 3, 4])"
   ]
  },
  {
   "cell_type": "code",
   "execution_count": null,
   "id": "af174d58",
   "metadata": {},
   "outputs": [],
   "source": [
    "animals = {'a': [15, 2,6,5,8,8], 'c': [18, 13, 10, 11, 10], 'b': [7, 3, 14, 1, 18, 5, 13, 10, 2, 11], 'd': [18]}"
   ]
  },
  {
   "cell_type": "code",
   "execution_count": null,
   "id": "b7c2fe00",
   "metadata": {
    "scrolled": true
   },
   "outputs": [],
   "source": [
    "for i, j in animals.items():\n",
    "    print(i, j)"
   ]
  },
  {
   "cell_type": "code",
   "execution_count": null,
   "id": "233e2aa6",
   "metadata": {},
   "outputs": [],
   "source": [
    "big = (0,[0])\n",
    "for key, value in animals.items():\n",
    "            if len(value) > len(big[1]):\n",
    "                big = (key, value)\n",
    "                print(big)\n",
    "big"
   ]
  },
  {
   "cell_type": "code",
   "execution_count": null,
   "id": "e59505b1",
   "metadata": {},
   "outputs": [],
   "source": [
    "def isWordGuessed(secretWord, lettersGuessed):\n",
    "    '''\n",
    "    secretWord: string, the word the user is guessing\n",
    "    lettersGuessed: list, what letters have been guessed so far\n",
    "    returns: boolean, True if all the letters of secretWord are in lettersGuessed;\n",
    "      False otherwise\n",
    "    '''\n",
    "    guess = [i in lettersGuessed for i in secretWord]\n",
    "    return all(guess)"
   ]
  },
  {
   "cell_type": "code",
   "execution_count": null,
   "id": "58d488d0",
   "metadata": {
    "scrolled": true
   },
   "outputs": [],
   "source": [
    "isWordGuessed('asd', ['a','s','d','f'])"
   ]
  },
  {
   "cell_type": "code",
   "execution_count": null,
   "id": "95163ef0",
   "metadata": {},
   "outputs": [],
   "source": [
    "def getGuessedWord(secretWord, lettersGuessed):\n",
    "    '''\n",
    "    secretWord: string, the word the user is guessing\n",
    "    lettersGuessed: list, what letters have been guessed so far\n",
    "    returns: string, comprised of letters and underscores that represents\n",
    "      what letters in secretWord have been guessed so far.\n",
    "    '''\n",
    "    return ''.join([letter if letter in lettersGuessed else '_ ' for letter in secretWord])"
   ]
  },
  {
   "cell_type": "code",
   "execution_count": null,
   "id": "70759827",
   "metadata": {},
   "outputs": [],
   "source": [
    "getGuessedWord('asdfdh', ['a','s','l','f'])"
   ]
  },
  {
   "cell_type": "code",
   "execution_count": null,
   "id": "272b4ab6",
   "metadata": {},
   "outputs": [],
   "source": [
    "def getAvailableLetters(lettersGuessed):\n",
    "    '''\n",
    "    lettersGuessed: list, what letters have been guessed so far\n",
    "    returns: string, comprised of letters that represents what letters have not\n",
    "      yet been guessed.\n",
    "    '''\n",
    "    from string import ascii_lowercase\n",
    "    return ''.join([letter for letter in ascii_lowercase if letter not in lettersGuessed])"
   ]
  },
  {
   "cell_type": "code",
   "execution_count": null,
   "id": "c5a97de3",
   "metadata": {},
   "outputs": [],
   "source": [
    "from string import ascii_lowercase\n",
    "res = ''\n",
    "a = ['a', 's', 'd']\n",
    "for letter in ascii_lowercase:\n",
    "    if letter not in a:\n",
    "        res += letter\n",
    "print(res)"
   ]
  },
  {
   "cell_type": "code",
   "execution_count": 1,
   "id": "7f9bd749",
   "metadata": {},
   "outputs": [],
   "source": [
    "def isWordGuessed(secretWord, lettersGuessed):\n",
    "    '''\n",
    "    secretWord: string, the word the user is guessing\n",
    "    lettersGuessed: list, what letters have been guessed so far\n",
    "    returns: boolean, True if all the letters of secretWord are in lettersGuessed;\n",
    "      False otherwise\n",
    "    '''\n",
    "    res = [i in lettersGuessed for i in secretWord]\n",
    "    return all(res)\n",
    "\n",
    "def getGuessedWord(secretWord, lettersGuessed):\n",
    "    '''\n",
    "    secretWord: string, the word the user is guessing\n",
    "    lettersGuessed: list, what letters have been guessed so far\n",
    "    returns: string, comprised of letters and underscores that represents\n",
    "      what letters in secretWord have been guessed so far.\n",
    "    '''\n",
    "    return ''.join([letter if letter in lettersGuessed else '_ ' for letter in secretWord])\n",
    "\n",
    "def getAvailableLetters(lettersGuessed):\n",
    "    '''\n",
    "    lettersGuessed: list, what letters have been guessed so far\n",
    "    returns: string, comprised of letters that represents what letters have not\n",
    "      yet been guessed.\n",
    "    '''\n",
    "    from string import ascii_lowercase\n",
    "    return ''.join([letter for letter in ascii_lowercase if letter not in lettersGuessed])"
   ]
  },
  {
   "cell_type": "code",
   "execution_count": 6,
   "id": "fd3a0f15",
   "metadata": {},
   "outputs": [],
   "source": [
    "def hangman(secretWord):\n",
    "    '''\n",
    "    secretWord: string, the secret word to guess.\n",
    "\n",
    "    Starts up an interactive game of Hangman.\n",
    "\n",
    "    * At the start of the game, let the user know how many \n",
    "      letters the secretWord contains.\n",
    "\n",
    "    * Ask the user to supply one guess (i.e. letter) per round.\n",
    "\n",
    "    * The user should receive feedback immediately after each guess \n",
    "      about whether their guess appears in the computers word.\n",
    "\n",
    "    * After each round, you should also display to the user the \n",
    "      partially guessed word so far, as well as letters that the \n",
    "      user has not yet guessed.\n",
    "\n",
    "    Follows the other limitations detailed in the problem write-up.\n",
    "    '''\n",
    "    print('Welcome to the game Hangman!')\n",
    "    print('I am thinking of a word that is {} letters long.'.format(len(secretWord)))\n",
    "    lettersGuessed = ''\n",
    "    tries = 8\n",
    "    while isWordGuessed(secretWord, lettersGuessed) == False and tries != 0:\n",
    "        print('-----------')\n",
    "        print('You have {} guesses left.'.format(tries))\n",
    "        print('Available Letters: {}'.format(getAvailableLetters(lettersGuessed)))\n",
    "        letter = input('Please guess a letter: ')\n",
    "        letter = letter.lower()\n",
    "        if letter in lettersGuessed:\n",
    "            print(\"Oops! You've already guessed that letter: {}\".format(getGuessedWord(secretWord, lettersGuessed)))\n",
    "        else:\n",
    "            \n",
    "            if letter in getAvailableLetters(lettersGuessed) and letter in secretWord:\n",
    "                lettersGuessed += letter\n",
    "                print('Good guess: {}'.format(getGuessedWord(secretWord, lettersGuessed)))\n",
    "            elif letter not in secretWord:\n",
    "                tries -= 1\n",
    "                lettersGuessed += letter\n",
    "                print('Oops! That letter is not in my word: {}'.format(getGuessedWord(secretWord, lettersGuessed)))\n",
    "                \n",
    "    print('-----------')\n",
    "    if isWordGuessed(secretWord, lettersGuessed):\n",
    "        print('Congratulations, you won!')\n",
    "    else:\n",
    "        print('Sorry, you ran out of guesses. The word was {}.'.format(secretWord))"
   ]
  },
  {
   "cell_type": "code",
   "execution_count": 8,
   "id": "ef3bc2c7",
   "metadata": {},
   "outputs": [
    {
     "name": "stdout",
     "output_type": "stream",
     "text": [
      "Welcome to the game Hangman!\n",
      "I am thinking of a word that is 4 letters long.\n",
      "-----------\n",
      "You have 8 guesses left.\n",
      "Available Letters: abcdefghijklmnopqrstuvwxyz\n",
      "Please guess a letter: k\n",
      "Oops! That letter is not in my word: _ _ _ _ \n",
      "-----------\n",
      "You have 7 guesses left.\n",
      "Available Letters: abcdefghijlmnopqrstuvwxyz\n",
      "Please guess a letter: o\n",
      "Good guess: _ o_ _ \n",
      "-----------\n",
      "You have 7 guesses left.\n",
      "Available Letters: abcdefghijlmnpqrstuvwxyz\n",
      "Please guess a letter: l\n",
      "Good guess: _ ol_ \n",
      "-----------\n",
      "You have 7 guesses left.\n",
      "Available Letters: abcdefghijmnpqrstuvwxyz\n",
      "Please guess a letter: h\n",
      "Good guess: hol_ \n",
      "-----------\n",
      "You have 7 guesses left.\n",
      "Available Letters: abcdefgijmnpqrstuvwxyz\n",
      "Please guess a letter: h\n",
      "Oops! You've already guessed that letter: hol_ \n",
      "-----------\n",
      "You have 7 guesses left.\n",
      "Available Letters: abcdefgijmnpqrstuvwxyz\n",
      "Please guess a letter: a\n",
      "Good guess: hola\n",
      "-----------\n",
      "Congratulations, you won!\n"
     ]
    }
   ],
   "source": [
    "hangman('hola')"
   ]
  },
  {
   "cell_type": "code",
   "execution_count": 2,
   "id": "b3d220bb",
   "metadata": {},
   "outputs": [],
   "source": [
    "def f(x):\n",
    "    while x > 3:\n",
    "        f(x+1)"
   ]
  },
  {
   "cell_type": "code",
   "execution_count": 21,
   "id": "16059bcf",
   "metadata": {},
   "outputs": [],
   "source": [
    "def Square(x):\n",
    "    return SquareHelper(abs(x), abs(x))\n",
    "\n",
    "def SquareHelper(n, x):\n",
    "    if n == 0:\n",
    "        return 0\n",
    "    return SquareHelper(n-1, x) + x"
   ]
  },
  {
   "cell_type": "code",
   "execution_count": 35,
   "id": "b8299b52",
   "metadata": {},
   "outputs": [],
   "source": [
    "def count7(N):\n",
    "    if N == 0:\n",
    "        return 0\n",
    "    if N % 10 == 7:\n",
    "        return count7(N // 10) + 1\n",
    "    else:\n",
    "        return count7(N // 10)"
   ]
  },
  {
   "cell_type": "code",
   "execution_count": 41,
   "id": "b9431375",
   "metadata": {},
   "outputs": [
    {
     "data": {
      "text/plain": [
       "0"
      ]
     },
     "execution_count": 41,
     "metadata": {},
     "output_type": "execute_result"
    }
   ],
   "source": [
    "count7(55)"
   ]
  },
  {
   "cell_type": "code",
   "execution_count": 43,
   "id": "0cb6bf81",
   "metadata": {},
   "outputs": [],
   "source": [
    "def lessThan4(aList):\n",
    "    lista = []\n",
    "    for element in aList:\n",
    "        if len(element) < 4:\n",
    "            lista.append(element)\n",
    "    return lista"
   ]
  },
  {
   "cell_type": "code",
   "execution_count": 44,
   "id": "5a587dd0",
   "metadata": {},
   "outputs": [
    {
     "data": {
      "text/plain": [
       "['cat', 'dog']"
      ]
     },
     "execution_count": 44,
     "metadata": {},
     "output_type": "execute_result"
    }
   ],
   "source": [
    "lessThan4([\"apple\", \"cat\", \"dog\", \"banana\"])"
   ]
  },
  {
   "cell_type": "code",
   "execution_count": 48,
   "id": "0a9e1b7e",
   "metadata": {},
   "outputs": [],
   "source": [
    "def dict_invert(d):\n",
    "    '''\n",
    "    d: dict\n",
    "    Returns an inverted dictionary according to the instructions above\n",
    "    '''\n",
    "    dict_new = {}\n",
    "    for key, value in d.items():\n",
    "        if value in dict_new:\n",
    "            dict_new[value].append(key)\n",
    "            dict_new[value].sort()\n",
    "        else:\n",
    "            dict_new[value] = [key]           \n",
    "    return dict_new"
   ]
  },
  {
   "cell_type": "code",
   "execution_count": 50,
   "id": "c594d4eb",
   "metadata": {},
   "outputs": [
    {
     "data": {
      "text/plain": [
       "{True: [0, 2, 4]}"
      ]
     },
     "execution_count": 50,
     "metadata": {},
     "output_type": "execute_result"
    }
   ],
   "source": [
    "dict_invert({4:True, 2:True, 0:True})"
   ]
  },
  {
   "cell_type": "code",
   "execution_count": 83,
   "id": "fdd6f75d",
   "metadata": {},
   "outputs": [],
   "source": [
    "def laceStringsRecur(s1, s2):\n",
    "    \"\"\"\n",
    "    s1 and s2 are strings.\n",
    "\n",
    "    Returns a new str with elements of s1 and s2 interlaced,\n",
    "    beginning with s1. If strings are not of same length, \n",
    "    then the extra elements should appear at the end.\n",
    "    \"\"\"\n",
    "    def helpLaceStrings(s1, s2, out):\n",
    "        if s1 == '':\n",
    "            return s2\n",
    "        if s2 == '':\n",
    "            return s1\n",
    "        else:\n",
    "            return(s1[0]+s2[0] + helpLaceStrings(s1[1:], s2[1:], out))\n",
    "    return helpLaceStrings(s1, s2, '')\n"
   ]
  },
  {
   "cell_type": "code",
   "execution_count": 87,
   "id": "626d9b67",
   "metadata": {
    "scrolled": true
   },
   "outputs": [
    {
     "data": {
      "text/plain": [
       "'hcohleasafafaff'"
      ]
     },
     "execution_count": 87,
     "metadata": {},
     "output_type": "execute_result"
    }
   ],
   "source": [
    "laceStringsRecur('holaaaa', 'chesffff')"
   ]
  },
  {
   "cell_type": "code",
   "execution_count": 111,
   "id": "a5d2d0c2",
   "metadata": {},
   "outputs": [],
   "source": [
    "def general_poly (L):\n",
    "    \"\"\" L, a list of numbers (n0, n1, n2, ... nk)\n",
    "    Returns a function, which when applied to a value x, returns the value \n",
    "    n0 * x^k + n1 * x^(k-1) + ... nk * x^0 \"\"\"\n",
    "    #x = 10\n",
    "    def wrapped(x):\n",
    "        num = 0\n",
    "        for i in range(len(L)):\n",
    "            num += L[i] * x ** (len(L) - (i+1))\n",
    "        return num\n",
    "    return wrapped"
   ]
  },
  {
   "cell_type": "code",
   "execution_count": 114,
   "id": "dc229dea",
   "metadata": {},
   "outputs": [
    {
     "data": {
      "text/plain": [
       "1234"
      ]
     },
     "execution_count": 114,
     "metadata": {},
     "output_type": "execute_result"
    }
   ],
   "source": [
    "general_poly([1,2,3,4])(10)"
   ]
  },
  {
   "cell_type": "code",
   "execution_count": 1,
   "id": "a34090c2",
   "metadata": {},
   "outputs": [],
   "source": [
    "def fancy_divide(numbers, index):\n",
    "    try:\n",
    "        denom = numbers[index]\n",
    "        for i in range(len(numbers)):\n",
    "            numbers[i] /= denom\n",
    "    except IndexError:\n",
    "        fancy_divide(numbers, len(numbers) - 1)\n",
    "    except ZeroDivisionError:\n",
    "        print(\"-2\")\n",
    "    else:\n",
    "        print(\"1\")\n",
    "    finally:\n",
    "        print(\"0\")"
   ]
  },
  {
   "cell_type": "code",
   "execution_count": 2,
   "id": "4855a5cb",
   "metadata": {},
   "outputs": [
    {
     "name": "stdout",
     "output_type": "stream",
     "text": [
      "1\n",
      "0\n",
      "0\n"
     ]
    }
   ],
   "source": [
    "fancy_divide([0, 2, 4], 4)"
   ]
  },
  {
   "cell_type": "code",
   "execution_count": 1,
   "id": "924e5a94",
   "metadata": {},
   "outputs": [
    {
     "name": "stdout",
     "output_type": "stream",
     "text": [
      "10:30\n"
     ]
    }
   ],
   "source": [
    "class Clock(object):\n",
    "    def __init__(self, time):\n",
    "        self.time = time\n",
    "    def print_time(self):\n",
    "        print(self.time)\n",
    "\n",
    "boston_clock = Clock('5:30')\n",
    "paris_clock = boston_clock\n",
    "paris_clock.time = '10:30'\n",
    "boston_clock.print_time()"
   ]
  },
  {
   "cell_type": "code",
   "execution_count": 2,
   "id": "cf78978f",
   "metadata": {},
   "outputs": [],
   "source": [
    "class Weird(object):\n",
    "    def __init__(self, x, y): \n",
    "        self.y = y\n",
    "        self.x = x\n",
    "    def getX(self):\n",
    "        return x \n",
    "    def getY(self):\n",
    "        return y\n",
    "\n",
    "class Wild(object):\n",
    "    def __init__(self, x, y): \n",
    "        self.y = y\n",
    "        self.x = x\n",
    "    def getX(self):\n",
    "        return self.x \n",
    "    def getY(self):\n",
    "        return self.y\n",
    "\n",
    "X = 7\n",
    "Y = 8"
   ]
  },
  {
   "cell_type": "code",
   "execution_count": 8,
   "id": "43da55fd",
   "metadata": {},
   "outputs": [
    {
     "name": "stdout",
     "output_type": "stream",
     "text": [
      "7\n",
      "17\n",
      "7\n"
     ]
    }
   ],
   "source": [
    "w2 = Wild(X, Y)\n",
    "print(w2.getX())\n",
    "w3 = Wild(17, 18)\n",
    "print(w3.getX())\n",
    "w4 = Wild(X, 18)\n",
    "print(w4.getX())"
   ]
  },
  {
   "cell_type": "code",
   "execution_count": 9,
   "id": "ae94be20",
   "metadata": {},
   "outputs": [
    {
     "name": "stdout",
     "output_type": "stream",
     "text": [
      "31\n"
     ]
    }
   ],
   "source": [
    "X = w4.getX() + w3.getX() + w2.getX()\n",
    "print(X)"
   ]
  },
  {
   "cell_type": "code",
   "execution_count": 10,
   "id": "3da03225",
   "metadata": {},
   "outputs": [
    {
     "name": "stdout",
     "output_type": "stream",
     "text": [
      "7\n"
     ]
    }
   ],
   "source": [
    "print(w4.getX())"
   ]
  },
  {
   "cell_type": "code",
   "execution_count": 38,
   "id": "c93ead1e",
   "metadata": {},
   "outputs": [],
   "source": [
    "class Coordinate(object):\n",
    "    def __init__(self,x,y):\n",
    "        self.x = x\n",
    "        self.y = y\n",
    "\n",
    "    def getX(self):\n",
    "        # Getter method for a Coordinate object's x coordinate.\n",
    "        # Getter methods are better practice than just accessing an attribute directly\n",
    "        return self.x\n",
    "\n",
    "    def getY(self):\n",
    "        # Getter method for a Coordinate object's y coordinate\n",
    "        return self.y\n",
    "\n",
    "    def __str__(self):\n",
    "        return '<' + str(self.getX()) + ',' + str(self.getY()) + '>'\n",
    "\n",
    "    def __eq__(self, other):\n",
    "        x = self.getX() == other.getX()\n",
    "        y = self.getY() == other.getY()\n",
    "        return all([x,y])\n",
    "    \n",
    "    def __repr__(self):\n",
    "        return 'Coordinate({}, {})'.format(self.getX(), self.getY())"
   ]
  },
  {
   "cell_type": "code",
   "execution_count": 41,
   "id": "1d6744fc",
   "metadata": {},
   "outputs": [
    {
     "name": "stdout",
     "output_type": "stream",
     "text": [
      "False\n"
     ]
    },
    {
     "ename": "TypeError",
     "evalue": "object of type 'Coordinate' has no len()",
     "output_type": "error",
     "traceback": [
      "\u001b[1;31m---------------------------------------------------------------------------\u001b[0m",
      "\u001b[1;31mTypeError\u001b[0m                                 Traceback (most recent call last)",
      "\u001b[1;32m~\\AppData\\Local\\Temp/ipykernel_4188/776760455.py\u001b[0m in \u001b[0;36m<module>\u001b[1;34m\u001b[0m\n\u001b[0;32m      2\u001b[0m \u001b[0mdos\u001b[0m \u001b[1;33m=\u001b[0m \u001b[0mCoordinate\u001b[0m\u001b[1;33m(\u001b[0m\u001b[1;36m1\u001b[0m\u001b[1;33m,\u001b[0m\u001b[1;36m3\u001b[0m\u001b[1;33m)\u001b[0m\u001b[1;33m\u001b[0m\u001b[1;33m\u001b[0m\u001b[0m\n\u001b[0;32m      3\u001b[0m \u001b[0mprint\u001b[0m\u001b[1;33m(\u001b[0m\u001b[0muno\u001b[0m \u001b[1;33m==\u001b[0m \u001b[0mdos\u001b[0m\u001b[1;33m)\u001b[0m\u001b[1;33m\u001b[0m\u001b[1;33m\u001b[0m\u001b[0m\n\u001b[1;32m----> 4\u001b[1;33m \u001b[0mprint\u001b[0m\u001b[1;33m(\u001b[0m\u001b[0mlen\u001b[0m\u001b[1;33m(\u001b[0m\u001b[0muno\u001b[0m\u001b[1;33m)\u001b[0m\u001b[1;33m)\u001b[0m\u001b[1;33m\u001b[0m\u001b[1;33m\u001b[0m\u001b[0m\n\u001b[0m",
      "\u001b[1;31mTypeError\u001b[0m: object of type 'Coordinate' has no len()"
     ]
    }
   ],
   "source": [
    "uno = Coordinate(1,2)\n",
    "dos = Coordinate(1,3)\n",
    "print(uno == dos)\n",
    "print(len(uno))"
   ]
  },
  {
   "cell_type": "code",
   "execution_count": 55,
   "id": "9e4a6953",
   "metadata": {},
   "outputs": [],
   "source": [
    "class intSet(object):\n",
    "    \"\"\"An intSet is a set of integers\n",
    "    The value is represented by a list of ints, self.vals.\n",
    "    Each int in the set occurs in self.vals exactly once.\"\"\"\n",
    "\n",
    "    def __init__(self):\n",
    "        \"\"\"Create an empty set of integers\"\"\"\n",
    "        self.vals = []\n",
    "\n",
    "    def insert(self, e):\n",
    "        \"\"\"Assumes e is an integer and inserts e into self\"\"\" \n",
    "        if not e in self.vals:\n",
    "            self.vals.append(e)\n",
    "\n",
    "    def member(self, e):\n",
    "        \"\"\"Assumes e is an integer\n",
    "           Returns True if e is in self, and False otherwise\"\"\"\n",
    "        return e in self.vals\n",
    "\n",
    "    def remove(self, e):\n",
    "        \"\"\"Assumes e is an integer and removes e from self\n",
    "           Raises ValueError if e is not in self\"\"\"\n",
    "        try:\n",
    "            self.vals.remove(e)\n",
    "        except:\n",
    "            raise ValueError(str(e) + ' not found')\n",
    "\n",
    "    def __str__(self):\n",
    "        \"\"\"Returns a string representation of self\"\"\"\n",
    "        self.vals.sort()\n",
    "        return '{' + ','.join([str(e) for e in self.vals]) + '}'\n",
    "\n",
    "    def __len__(self):\n",
    "        return len(self.vals)\n",
    "    \n",
    "    def intersect(self, other):\n",
    "        new = intSet()\n",
    "        for i in self.vals:\n",
    "            if i in other.vals:\n",
    "                new.insert(i)\n",
    "        return new\n",
    "        \n",
    "            "
   ]
  },
  {
   "cell_type": "code",
   "execution_count": 59,
   "id": "8395566c",
   "metadata": {},
   "outputs": [
    {
     "name": "stdout",
     "output_type": "stream",
     "text": [
      "1\n",
      "{1}\n"
     ]
    }
   ],
   "source": [
    "s = intSet()\n",
    "s.insert(1)\n",
    "print(len(s))\n",
    "d = intSet()\n",
    "d.insert(1)\n",
    "d.insert(2)\n",
    "a = s.intersect(d)\n",
    "print(a)"
   ]
  },
  {
   "cell_type": "code",
   "execution_count": 14,
   "id": "22df6ad4",
   "metadata": {},
   "outputs": [
    {
     "name": "stdout",
     "output_type": "stream",
     "text": [
      "1\n",
      "x: 4\n",
      "1\n",
      "2\n",
      "1\n",
      "x: 2\n",
      "1\n",
      "2\n",
      "1\n",
      "x: 1\n",
      "1\n",
      "2\n",
      "1\n",
      "x: 0\n",
      "1\n",
      "2\n",
      "1\n",
      "1\n"
     ]
    },
    {
     "data": {
      "text/plain": [
       "7"
      ]
     },
     "execution_count": 14,
     "metadata": {},
     "output_type": "execute_result"
    }
   ],
   "source": [
    "def foo(x):\n",
    "    total = 0\n",
    "    while x > 0:\n",
    "        print(1)\n",
    "        x = x//2\n",
    "        print(f'x: {x}')\n",
    "        print(1)\n",
    "        total += x\n",
    "        print(2)\n",
    "    print(1)\n",
    "    print(1)\n",
    "    return total\n",
    "foo(8)"
   ]
  },
  {
   "cell_type": "code",
   "execution_count": 6,
   "id": "98278816",
   "metadata": {},
   "outputs": [
    {
     "data": {
      "text/plain": [
       "[0, 1, 4, 5, 6, 7, 8]"
      ]
     },
     "execution_count": 6,
     "metadata": {},
     "output_type": "execute_result"
    }
   ],
   "source": [
    "def merge(left, right):\n",
    "    result = []\n",
    "    i, j = 0, 0\n",
    "    while i < len(left) and j < len(right):\n",
    "        if left[i] < right[j]:\n",
    "            result.append(left[i])\n",
    "            i += 1\n",
    "        else:\n",
    "            result.append(right[j])\n",
    "            j += 1\n",
    "    while (i < len(left)):\n",
    "        result.append(left[i])\n",
    "        i += 1\n",
    "    while (j < len(right)):\n",
    "        result.append(right[j])\n",
    "        j += 1\n",
    "    return result\n",
    "\n",
    "\n",
    "def merge_sort(L):\n",
    "    if len(L) < 2:\n",
    "        return L[:]\n",
    "    else:\n",
    "        middle = len(L)//2\n",
    "        left = merge_sort(L[:middle])\n",
    "        right = merge_sort(L[middle:])\n",
    "        return merge(left, right)\n",
    "\n",
    "a = merge_sort([5, 6, 1, 0, 8, 7, 4])\n",
    "a"
   ]
  },
  {
   "cell_type": "code",
   "execution_count": 9,
   "id": "564d7f00",
   "metadata": {},
   "outputs": [
    {
     "name": "stdout",
     "output_type": "stream",
     "text": [
      "True False\n"
     ]
    }
   ],
   "source": [
    "def search(L, e):\n",
    "    for i in range(len(L)):\n",
    "        if L[i] == e:\n",
    "            return True\n",
    "        if L[i] > e:\n",
    "            return False\n",
    "    return False\n",
    "\n",
    "def newsearch(L, e):\n",
    "    size = len(L)\n",
    "    for i in range(size):\n",
    "        if L[size-i-1] == e:\n",
    "            return True\n",
    "        if L[i] < e:\n",
    "            return False\n",
    "    return False\n",
    "\n",
    "b = search(a, 7)\n",
    "c = newsearch(a, 7)\n",
    "print(b, c)"
   ]
  },
  {
   "cell_type": "code",
   "execution_count": 10,
   "id": "722b2058",
   "metadata": {},
   "outputs": [
    {
     "name": "stdout",
     "output_type": "stream",
     "text": [
      "Original L:  [5, 8, 1, 0, 7]\n",
      "[1, 8, 5, 0, 7]\n",
      "[0, 8, 5, 1, 7]\n",
      "[0, 5, 8, 1, 7]\n",
      "[0, 1, 8, 5, 7]\n",
      "[0, 1, 5, 8, 7]\n",
      "[0, 1, 5, 7, 8]\n",
      "Final L:  [0, 1, 5, 7, 8]\n"
     ]
    }
   ],
   "source": [
    "def swapSort(L): \n",
    "    \"\"\" L is a list on integers \"\"\"\n",
    "    print(\"Original L: \", L)\n",
    "    for i in range(len(L)):\n",
    "        for j in range(i+1, len(L)):\n",
    "            if L[j] < L[i]:\n",
    "                # the next line is a short \n",
    "                # form for swap L[i] and L[j]\n",
    "                L[j], L[i] = L[i], L[j] \n",
    "                print(L)\n",
    "    print(\"Final L: \", L)\n",
    "\n",
    "lista = [5, 8, 1, 0, 7]\n",
    "swapSort(lista)"
   ]
  },
  {
   "cell_type": "code",
   "execution_count": 18,
   "id": "ef2cc513",
   "metadata": {},
   "outputs": [
    {
     "name": "stdout",
     "output_type": "stream",
     "text": [
      "Original L:  [1, 2, 3, 4]\n",
      "bucle i  [1, 2, 3, 4]\n",
      "bucle j [2, 1, 3, 4]\n",
      "bucle i  [2, 1, 3, 4]\n",
      "bucle j [3, 1, 2, 4]\n",
      "bucle j [3, 2, 1, 4]\n",
      "bucle i  [3, 2, 1, 4]\n",
      "bucle j [4, 2, 1, 3]\n",
      "bucle j [4, 3, 1, 2]\n",
      "bucle j [4, 3, 2, 1]\n",
      "bucle i  [4, 3, 2, 1]\n",
      "Final L:  [4, 3, 2, 1]\n"
     ]
    }
   ],
   "source": [
    "def modSwapSort(L): \n",
    "    \"\"\" L is a list on integers \"\"\"\n",
    "    print(\"Original L: \", L)\n",
    "    for i in range(len(L)):\n",
    "        for j in range(len(L)):\n",
    "            if L[j] < L[i]:\n",
    "                # the next line is a short \n",
    "                # form for swap L[i] and L[j]\n",
    "                L[j], L[i] = L[i], L[j] \n",
    "                print('bucle j', L)\n",
    "        print('bucle i ', L)\n",
    "    print(\"Final L: \", L)\n",
    "modSwapSort([1,2,3,4])"
   ]
  },
  {
   "cell_type": "code",
   "execution_count": 13,
   "id": "8416709b",
   "metadata": {},
   "outputs": [
    {
     "data": {
      "text/plain": [
       "12"
      ]
     },
     "execution_count": 13,
     "metadata": {},
     "output_type": "execute_result"
    }
   ],
   "source": [
    "def sum_digits(s):\n",
    "    \"\"\" assumes s a string\n",
    "        Returns an int that is the sum of all of the digits in s.\n",
    "          If there are no digits in s it raises a ValueError exception. \"\"\"\n",
    "    result = 0\n",
    "    flag = False\n",
    "    for i in s:\n",
    "        if i not in '1234567890':\n",
    "            pass\n",
    "        else:\n",
    "            flag = True\n",
    "            result += int(i)\n",
    "    if flag:\n",
    "        return result\n",
    "    else:\n",
    "        raise ValueError \n",
    "sum_digits('a;35d4')"
   ]
  },
  {
   "cell_type": "code",
   "execution_count": 26,
   "id": "eb8d7697",
   "metadata": {},
   "outputs": [
    {
     "name": "stdout",
     "output_type": "stream",
     "text": [
      "3\n"
     ]
    }
   ],
   "source": [
    "def largest_odd_times(L):\n",
    "    \"\"\" Assumes L is a non-empty list of ints\n",
    "        Returns the largest element of L that occurs an odd number \n",
    "        of times in L. If no such element exists, returns None \"\"\"\n",
    "    largest = 0\n",
    "    for i in L:\n",
    "        if L.count(i) % 2 == 0:\n",
    "            pass\n",
    "        else:\n",
    "            if i >= largest:\n",
    "                largest = i\n",
    "    if largest != 0:\n",
    "        return largest\n",
    "    else:\n",
    "        return None\n",
    "                \n",
    "print(largest_odd_times([3, 0, 5, 3, 5, 3]))"
   ]
  },
  {
   "cell_type": "code",
   "execution_count": 34,
   "id": "b967ff2a",
   "metadata": {},
   "outputs": [
    {
     "data": {
      "text/plain": [
       "({'a': 'd', 'b': 'c', 'c': 'b', 'd': 'a'}, 'adc')"
      ]
     },
     "execution_count": 34,
     "metadata": {},
     "output_type": "execute_result"
    }
   ],
   "source": [
    "def cipher(map_from, map_to, code):\n",
    "    \"\"\" map_from, map_to: strings where each contain \n",
    "                          N unique lowercase letters. \n",
    "        code: string (assume it only contains letters also in map_from)\n",
    "        Returns a tuple of (key_code, decoded).\n",
    "        key_code is a dictionary with N keys mapping str to str where \n",
    "        each key is a letter in map_from at index i and the corresponding \n",
    "        value is the letter in map_to at index i. \n",
    "        decoded is a string that contains the decoded version \n",
    "        of code using the key_code mapping. \"\"\"\n",
    "    decoder = {}\n",
    "    for key, value in zip(map_from, map_to):\n",
    "        decoder[key] = value\n",
    "    message = ''\n",
    "    for i in code:\n",
    "        message += decoder[i]\n",
    "    return (decoder, message)\n",
    "\n",
    "cipher(\"abcd\", \"dcba\", \"dab\")"
   ]
  },
  {
   "cell_type": "code",
   "execution_count": 43,
   "id": "fa2e4160",
   "metadata": {},
   "outputs": [
    {
     "data": {
      "text/plain": [
       "[[0, 1], [3, 4]]"
      ]
     },
     "metadata": {},
     "output_type": "display_data"
    },
    {
     "data": {
      "text/plain": [
       "[[0, 1]]"
      ]
     },
     "execution_count": 43,
     "metadata": {},
     "output_type": "execute_result"
    }
   ],
   "source": [
    "a = [[0,1],[3,4]]\n",
    "display(a)\n",
    "for tupla in a:\n",
    "    if tupla[0] == 3:\n",
    "        a.remove(tupla)\n",
    "a"
   ]
  }
 ],
 "metadata": {
  "kernelspec": {
   "display_name": "Python 3 (ipykernel)",
   "language": "python",
   "name": "python3"
  },
  "language_info": {
   "codemirror_mode": {
    "name": "ipython",
    "version": 3
   },
   "file_extension": ".py",
   "mimetype": "text/x-python",
   "name": "python",
   "nbconvert_exporter": "python",
   "pygments_lexer": "ipython3",
   "version": "3.8.3"
  }
 },
 "nbformat": 4,
 "nbformat_minor": 5
}
